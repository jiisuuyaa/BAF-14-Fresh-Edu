{
 "cells": [
  {
   "cell_type": "markdown",
   "id": "ea5e27c9",
   "metadata": {},
   "source": [
    "# 1. 관심있는 데이터 \n",
    "## 계속 변화하는 사회에 맞춰 여러가지 정책을 개선할 수 있는 데이터 \n",
    "### 이유 : 현재 정책이 어떻게 작동하고 있는지 평가하고 정책의 효과를 측정하고 개선점을 찾는 것이 좋다고 생각합니다.\n",
    "- 예) 한국복지패널 데이터 \n",
    "- 깃허브에서 'Koweps_hpwc14_2019_beta2' 로 다운받을 수 있음"
   ]
  },
  {
   "cell_type": "markdown",
   "id": "bf564989",
   "metadata": {},
   "source": [
    "# 과제 _ 따릉이 데이터 EDA"
   ]
  },
  {
   "cell_type": "code",
   "execution_count": 68,
   "id": "cd38d675",
   "metadata": {},
   "outputs": [],
   "source": [
    "# 라이브러리\n",
    "import pandas as pd\n",
    "import numpy as np\n",
    "import matplotlib.pyplot as plt\n",
    "import seaborn as sns\n",
    "\n",
    "from sklearn.model_selection import train_test_split\n",
    "%config lnlineBackend.figure_format = 'retina'"
   ]
  },
  {
   "cell_type": "markdown",
   "id": "fdf4a6dd",
   "metadata": {},
   "source": [
    "## 따릉이 데이터(SeoulBikeData)\n",
    "\n",
    "- date : 대여 날짜\n",
    "- Rented Bike Count : 대여된 자전거 수\n",
    "- Hour : 대여시간\n",
    "- Temperature : 기온\n",
    "- Humidity(%) : 습도\n",
    "- Wind speed (m/s) : 풍속\n",
    "- Visibility (10m) : 기상 상태에 따른 가시성\n",
    "- Dew point temperature : 이슬점 온도\n",
    "- Solar Radiation (MJ/m2) : 태양 복사량\n",
    "- Rainfall(mm) : 강우량(비)\n",
    "- Snowfall (cm) : 적설량(눈)\n",
    "- Seasons : 계절\n",
    "- Holiday : 휴일여부 (Holiday / No Holiday)\n",
    "- Functioning Day : 대여소 운영여부 (Yes / No)"
   ]
  },
  {
   "cell_type": "code",
   "execution_count": 4,
   "id": "205ce47c",
   "metadata": {},
   "outputs": [
    {
     "data": {
      "text/html": [
       "<div>\n",
       "<style scoped>\n",
       "    .dataframe tbody tr th:only-of-type {\n",
       "        vertical-align: middle;\n",
       "    }\n",
       "\n",
       "    .dataframe tbody tr th {\n",
       "        vertical-align: top;\n",
       "    }\n",
       "\n",
       "    .dataframe thead th {\n",
       "        text-align: right;\n",
       "    }\n",
       "</style>\n",
       "<table border=\"1\" class=\"dataframe\">\n",
       "  <thead>\n",
       "    <tr style=\"text-align: right;\">\n",
       "      <th></th>\n",
       "      <th>Date</th>\n",
       "      <th>Rented Bike Count</th>\n",
       "      <th>Hour</th>\n",
       "      <th>Temperature(�C)</th>\n",
       "      <th>Humidity(%)</th>\n",
       "      <th>Wind speed (m/s)</th>\n",
       "      <th>Visibility (10m)</th>\n",
       "      <th>Dew point temperature(�C)</th>\n",
       "      <th>Solar Radiation (MJ/m2)</th>\n",
       "      <th>Rainfall(mm)</th>\n",
       "      <th>Snowfall (cm)</th>\n",
       "      <th>Seasons</th>\n",
       "      <th>Holiday</th>\n",
       "      <th>Functioning Day</th>\n",
       "    </tr>\n",
       "  </thead>\n",
       "  <tbody>\n",
       "    <tr>\n",
       "      <th>0</th>\n",
       "      <td>01/12/2017</td>\n",
       "      <td>254</td>\n",
       "      <td>0</td>\n",
       "      <td>-5.2</td>\n",
       "      <td>37</td>\n",
       "      <td>2.2</td>\n",
       "      <td>2000</td>\n",
       "      <td>-17.6</td>\n",
       "      <td>0.0</td>\n",
       "      <td>0.0</td>\n",
       "      <td>0.0</td>\n",
       "      <td>Winter</td>\n",
       "      <td>No Holiday</td>\n",
       "      <td>Yes</td>\n",
       "    </tr>\n",
       "    <tr>\n",
       "      <th>1</th>\n",
       "      <td>01/12/2017</td>\n",
       "      <td>204</td>\n",
       "      <td>1</td>\n",
       "      <td>-5.5</td>\n",
       "      <td>38</td>\n",
       "      <td>0.8</td>\n",
       "      <td>2000</td>\n",
       "      <td>-17.6</td>\n",
       "      <td>0.0</td>\n",
       "      <td>0.0</td>\n",
       "      <td>0.0</td>\n",
       "      <td>Winter</td>\n",
       "      <td>No Holiday</td>\n",
       "      <td>Yes</td>\n",
       "    </tr>\n",
       "    <tr>\n",
       "      <th>2</th>\n",
       "      <td>01/12/2017</td>\n",
       "      <td>173</td>\n",
       "      <td>2</td>\n",
       "      <td>-6.0</td>\n",
       "      <td>39</td>\n",
       "      <td>1.0</td>\n",
       "      <td>2000</td>\n",
       "      <td>-17.7</td>\n",
       "      <td>0.0</td>\n",
       "      <td>0.0</td>\n",
       "      <td>0.0</td>\n",
       "      <td>Winter</td>\n",
       "      <td>No Holiday</td>\n",
       "      <td>Yes</td>\n",
       "    </tr>\n",
       "    <tr>\n",
       "      <th>3</th>\n",
       "      <td>01/12/2017</td>\n",
       "      <td>107</td>\n",
       "      <td>3</td>\n",
       "      <td>-6.2</td>\n",
       "      <td>40</td>\n",
       "      <td>0.9</td>\n",
       "      <td>2000</td>\n",
       "      <td>-17.6</td>\n",
       "      <td>0.0</td>\n",
       "      <td>0.0</td>\n",
       "      <td>0.0</td>\n",
       "      <td>Winter</td>\n",
       "      <td>No Holiday</td>\n",
       "      <td>Yes</td>\n",
       "    </tr>\n",
       "    <tr>\n",
       "      <th>4</th>\n",
       "      <td>01/12/2017</td>\n",
       "      <td>78</td>\n",
       "      <td>4</td>\n",
       "      <td>-6.0</td>\n",
       "      <td>36</td>\n",
       "      <td>2.3</td>\n",
       "      <td>2000</td>\n",
       "      <td>-18.6</td>\n",
       "      <td>0.0</td>\n",
       "      <td>0.0</td>\n",
       "      <td>0.0</td>\n",
       "      <td>Winter</td>\n",
       "      <td>No Holiday</td>\n",
       "      <td>Yes</td>\n",
       "    </tr>\n",
       "  </tbody>\n",
       "</table>\n",
       "</div>"
      ],
      "text/plain": [
       "         Date  Rented Bike Count  Hour  Temperature(�C)  Humidity(%)  \\\n",
       "0  01/12/2017                254     0             -5.2           37   \n",
       "1  01/12/2017                204     1             -5.5           38   \n",
       "2  01/12/2017                173     2             -6.0           39   \n",
       "3  01/12/2017                107     3             -6.2           40   \n",
       "4  01/12/2017                 78     4             -6.0           36   \n",
       "\n",
       "   Wind speed (m/s)  Visibility (10m)  Dew point temperature(�C)  \\\n",
       "0               2.2              2000                      -17.6   \n",
       "1               0.8              2000                      -17.6   \n",
       "2               1.0              2000                      -17.7   \n",
       "3               0.9              2000                      -17.6   \n",
       "4               2.3              2000                      -18.6   \n",
       "\n",
       "   Solar Radiation (MJ/m2)  Rainfall(mm)  Snowfall (cm) Seasons     Holiday  \\\n",
       "0                      0.0           0.0            0.0  Winter  No Holiday   \n",
       "1                      0.0           0.0            0.0  Winter  No Holiday   \n",
       "2                      0.0           0.0            0.0  Winter  No Holiday   \n",
       "3                      0.0           0.0            0.0  Winter  No Holiday   \n",
       "4                      0.0           0.0            0.0  Winter  No Holiday   \n",
       "\n",
       "  Functioning Day  \n",
       "0             Yes  \n",
       "1             Yes  \n",
       "2             Yes  \n",
       "3             Yes  \n",
       "4             Yes  "
      ]
     },
     "execution_count": 4,
     "metadata": {},
     "output_type": "execute_result"
    }
   ],
   "source": [
    "##데이터 불러오기\n",
    "data = pd.read_csv(\"C:/Users/jisoo sung/OneDrive/바탕 화면/비어플/SeoulBikeData.csv\")\n",
    "data.head() # 맨 앞 5행 추출"
   ]
  },
  {
   "cell_type": "code",
   "execution_count": 7,
   "id": "d8060ab6",
   "metadata": {},
   "outputs": [
    {
     "name": "stdout",
     "output_type": "stream",
     "text": [
      "<class 'pandas.core.frame.DataFrame'>\n",
      "RangeIndex: 8760 entries, 0 to 8759\n",
      "Data columns (total 14 columns):\n",
      " #   Column                     Non-Null Count  Dtype  \n",
      "---  ------                     --------------  -----  \n",
      " 0   Date                       8760 non-null   object \n",
      " 1   Rented Bike Count          8760 non-null   int64  \n",
      " 2   Hour                       8760 non-null   int64  \n",
      " 3   Temperature(�C)            8760 non-null   float64\n",
      " 4   Humidity(%)                8760 non-null   int64  \n",
      " 5   Wind speed (m/s)           8760 non-null   float64\n",
      " 6   Visibility (10m)           8760 non-null   int64  \n",
      " 7   Dew point temperature(�C)  8760 non-null   float64\n",
      " 8   Solar Radiation (MJ/m2)    8760 non-null   float64\n",
      " 9   Rainfall(mm)               8760 non-null   float64\n",
      " 10  Snowfall (cm)              8760 non-null   float64\n",
      " 11  Seasons                    8760 non-null   object \n",
      " 12  Holiday                    8760 non-null   object \n",
      " 13  Functioning Day            8760 non-null   object \n",
      "dtypes: float64(6), int64(4), object(4)\n",
      "memory usage: 958.2+ KB\n"
     ]
    },
    {
     "data": {
      "text/html": [
       "<div>\n",
       "<style scoped>\n",
       "    .dataframe tbody tr th:only-of-type {\n",
       "        vertical-align: middle;\n",
       "    }\n",
       "\n",
       "    .dataframe tbody tr th {\n",
       "        vertical-align: top;\n",
       "    }\n",
       "\n",
       "    .dataframe thead th {\n",
       "        text-align: right;\n",
       "    }\n",
       "</style>\n",
       "<table border=\"1\" class=\"dataframe\">\n",
       "  <thead>\n",
       "    <tr style=\"text-align: right;\">\n",
       "      <th></th>\n",
       "      <th>Rented Bike Count</th>\n",
       "      <th>Hour</th>\n",
       "      <th>Temperature(�C)</th>\n",
       "      <th>Humidity(%)</th>\n",
       "      <th>Wind speed (m/s)</th>\n",
       "      <th>Visibility (10m)</th>\n",
       "      <th>Dew point temperature(�C)</th>\n",
       "      <th>Solar Radiation (MJ/m2)</th>\n",
       "      <th>Rainfall(mm)</th>\n",
       "      <th>Snowfall (cm)</th>\n",
       "    </tr>\n",
       "  </thead>\n",
       "  <tbody>\n",
       "    <tr>\n",
       "      <th>count</th>\n",
       "      <td>8760.000000</td>\n",
       "      <td>8760.000000</td>\n",
       "      <td>8760.000000</td>\n",
       "      <td>8760.000000</td>\n",
       "      <td>8760.000000</td>\n",
       "      <td>8760.000000</td>\n",
       "      <td>8760.000000</td>\n",
       "      <td>8760.000000</td>\n",
       "      <td>8760.000000</td>\n",
       "      <td>8760.000000</td>\n",
       "    </tr>\n",
       "    <tr>\n",
       "      <th>mean</th>\n",
       "      <td>704.602055</td>\n",
       "      <td>11.500000</td>\n",
       "      <td>12.882922</td>\n",
       "      <td>58.226256</td>\n",
       "      <td>1.724909</td>\n",
       "      <td>1436.825799</td>\n",
       "      <td>4.073813</td>\n",
       "      <td>0.569111</td>\n",
       "      <td>0.148687</td>\n",
       "      <td>0.075068</td>\n",
       "    </tr>\n",
       "    <tr>\n",
       "      <th>std</th>\n",
       "      <td>644.997468</td>\n",
       "      <td>6.922582</td>\n",
       "      <td>11.944825</td>\n",
       "      <td>20.362413</td>\n",
       "      <td>1.036300</td>\n",
       "      <td>608.298712</td>\n",
       "      <td>13.060369</td>\n",
       "      <td>0.868746</td>\n",
       "      <td>1.128193</td>\n",
       "      <td>0.436746</td>\n",
       "    </tr>\n",
       "    <tr>\n",
       "      <th>min</th>\n",
       "      <td>0.000000</td>\n",
       "      <td>0.000000</td>\n",
       "      <td>-17.800000</td>\n",
       "      <td>0.000000</td>\n",
       "      <td>0.000000</td>\n",
       "      <td>27.000000</td>\n",
       "      <td>-30.600000</td>\n",
       "      <td>0.000000</td>\n",
       "      <td>0.000000</td>\n",
       "      <td>0.000000</td>\n",
       "    </tr>\n",
       "    <tr>\n",
       "      <th>25%</th>\n",
       "      <td>191.000000</td>\n",
       "      <td>5.750000</td>\n",
       "      <td>3.500000</td>\n",
       "      <td>42.000000</td>\n",
       "      <td>0.900000</td>\n",
       "      <td>940.000000</td>\n",
       "      <td>-4.700000</td>\n",
       "      <td>0.000000</td>\n",
       "      <td>0.000000</td>\n",
       "      <td>0.000000</td>\n",
       "    </tr>\n",
       "    <tr>\n",
       "      <th>50%</th>\n",
       "      <td>504.500000</td>\n",
       "      <td>11.500000</td>\n",
       "      <td>13.700000</td>\n",
       "      <td>57.000000</td>\n",
       "      <td>1.500000</td>\n",
       "      <td>1698.000000</td>\n",
       "      <td>5.100000</td>\n",
       "      <td>0.010000</td>\n",
       "      <td>0.000000</td>\n",
       "      <td>0.000000</td>\n",
       "    </tr>\n",
       "    <tr>\n",
       "      <th>75%</th>\n",
       "      <td>1065.250000</td>\n",
       "      <td>17.250000</td>\n",
       "      <td>22.500000</td>\n",
       "      <td>74.000000</td>\n",
       "      <td>2.300000</td>\n",
       "      <td>2000.000000</td>\n",
       "      <td>14.800000</td>\n",
       "      <td>0.930000</td>\n",
       "      <td>0.000000</td>\n",
       "      <td>0.000000</td>\n",
       "    </tr>\n",
       "    <tr>\n",
       "      <th>max</th>\n",
       "      <td>3556.000000</td>\n",
       "      <td>23.000000</td>\n",
       "      <td>39.400000</td>\n",
       "      <td>98.000000</td>\n",
       "      <td>7.400000</td>\n",
       "      <td>2000.000000</td>\n",
       "      <td>27.200000</td>\n",
       "      <td>3.520000</td>\n",
       "      <td>35.000000</td>\n",
       "      <td>8.800000</td>\n",
       "    </tr>\n",
       "  </tbody>\n",
       "</table>\n",
       "</div>"
      ],
      "text/plain": [
       "       Rented Bike Count         Hour  Temperature(�C)  Humidity(%)  \\\n",
       "count        8760.000000  8760.000000      8760.000000  8760.000000   \n",
       "mean          704.602055    11.500000        12.882922    58.226256   \n",
       "std           644.997468     6.922582        11.944825    20.362413   \n",
       "min             0.000000     0.000000       -17.800000     0.000000   \n",
       "25%           191.000000     5.750000         3.500000    42.000000   \n",
       "50%           504.500000    11.500000        13.700000    57.000000   \n",
       "75%          1065.250000    17.250000        22.500000    74.000000   \n",
       "max          3556.000000    23.000000        39.400000    98.000000   \n",
       "\n",
       "       Wind speed (m/s)  Visibility (10m)  Dew point temperature(�C)  \\\n",
       "count       8760.000000       8760.000000                8760.000000   \n",
       "mean           1.724909       1436.825799                   4.073813   \n",
       "std            1.036300        608.298712                  13.060369   \n",
       "min            0.000000         27.000000                 -30.600000   \n",
       "25%            0.900000        940.000000                  -4.700000   \n",
       "50%            1.500000       1698.000000                   5.100000   \n",
       "75%            2.300000       2000.000000                  14.800000   \n",
       "max            7.400000       2000.000000                  27.200000   \n",
       "\n",
       "       Solar Radiation (MJ/m2)  Rainfall(mm)  Snowfall (cm)  \n",
       "count              8760.000000   8760.000000    8760.000000  \n",
       "mean                  0.569111      0.148687       0.075068  \n",
       "std                   0.868746      1.128193       0.436746  \n",
       "min                   0.000000      0.000000       0.000000  \n",
       "25%                   0.000000      0.000000       0.000000  \n",
       "50%                   0.010000      0.000000       0.000000  \n",
       "75%                   0.930000      0.000000       0.000000  \n",
       "max                   3.520000     35.000000       8.800000  "
      ]
     },
     "execution_count": 7,
     "metadata": {},
     "output_type": "execute_result"
    }
   ],
   "source": [
    "## 데이터 정보 확인\n",
    "data.info()\n",
    "data.describe()"
   ]
  },
  {
   "cell_type": "code",
   "execution_count": 12,
   "id": "c8faac36",
   "metadata": {},
   "outputs": [
    {
     "data": {
      "text/html": [
       "<div>\n",
       "<style scoped>\n",
       "    .dataframe tbody tr th:only-of-type {\n",
       "        vertical-align: middle;\n",
       "    }\n",
       "\n",
       "    .dataframe tbody tr th {\n",
       "        vertical-align: top;\n",
       "    }\n",
       "\n",
       "    .dataframe thead th {\n",
       "        text-align: right;\n",
       "    }\n",
       "</style>\n",
       "<table border=\"1\" class=\"dataframe\">\n",
       "  <thead>\n",
       "    <tr style=\"text-align: right;\">\n",
       "      <th></th>\n",
       "      <th>Date</th>\n",
       "      <th>Rented Bike Count</th>\n",
       "      <th>Hour</th>\n",
       "      <th>Temperature(�C)</th>\n",
       "      <th>Humidity(%)</th>\n",
       "      <th>Wind speed (m/s)</th>\n",
       "      <th>Visibility (10m)</th>\n",
       "      <th>Dew point temperature(�C)</th>\n",
       "      <th>Solar Radiation (MJ/m2)</th>\n",
       "      <th>Rainfall(mm)</th>\n",
       "      <th>Snowfall (cm)</th>\n",
       "      <th>Seasons</th>\n",
       "      <th>Holiday</th>\n",
       "      <th>Functioning Day</th>\n",
       "    </tr>\n",
       "  </thead>\n",
       "  <tbody>\n",
       "  </tbody>\n",
       "</table>\n",
       "</div>"
      ],
      "text/plain": [
       "Empty DataFrame\n",
       "Columns: [Date, Rented Bike Count, Hour, Temperature(�C), Humidity(%), Wind speed (m/s), Visibility (10m), Dew point temperature(�C), Solar Radiation (MJ/m2), Rainfall(mm), Snowfall (cm), Seasons, Holiday, Functioning Day]\n",
       "Index: []"
      ]
     },
     "execution_count": 12,
     "metadata": {},
     "output_type": "execute_result"
    }
   ],
   "source": [
    "# 결측치 개수\n",
    "data.isna().sum(axis=0).sort_values()\n",
    "\n",
    "# 중복행 확인\n",
    "data[data.duplicated()]\n",
    "\n",
    "## 결측치, 중복행 없음"
   ]
  },
  {
   "cell_type": "markdown",
   "id": "ec66ba6c",
   "metadata": {},
   "source": [
    "# Rented Bike Count & Hour\n",
    "- 대여된 자전거 수\n",
    "- 8시, 18시에 대여 수가 가장 많다. (출퇴근시간 이용 수 증가 예상)\n",
    "- 23시~6시에 대여수는 다른 시간대에 비해 적다."
   ]
  },
  {
   "cell_type": "code",
   "execution_count": 48,
   "id": "b426ca56",
   "metadata": {},
   "outputs": [
    {
     "data": {
      "text/plain": [
       "Hour\n",
       "0      541.460274\n",
       "1      426.183562\n",
       "2      301.630137\n",
       "3      203.331507\n",
       "4      132.591781\n",
       "5      139.082192\n",
       "6      287.564384\n",
       "7      606.005479\n",
       "8     1015.701370\n",
       "9      645.983562\n",
       "10     527.821918\n",
       "11     600.852055\n",
       "12     699.441096\n",
       "13     733.246575\n",
       "14     758.824658\n",
       "15     829.186301\n",
       "16     930.621918\n",
       "17    1138.509589\n",
       "18    1502.926027\n",
       "19    1195.147945\n",
       "20    1068.964384\n",
       "21    1031.449315\n",
       "22     922.797260\n",
       "23     671.126027\n",
       "Name: Rented Bike Count, dtype: float64"
      ]
     },
     "execution_count": 48,
     "metadata": {},
     "output_type": "execute_result"
    }
   ],
   "source": [
    "data.groupby('Hour')['Rented Bike Count'].mean()"
   ]
  },
  {
   "cell_type": "code",
   "execution_count": 47,
   "id": "ba9957c4",
   "metadata": {},
   "outputs": [
    {
     "data": {
      "image/png": "[encoded data removed]",
      "text/plain": [
       "<Figure size 432x288 with 1 Axes>"
      ]
     },
     "metadata": {
      "needs_background": "light"
     },
     "output_type": "display_data"
    },
    {
     "name": "stderr",
     "output_type": "stream",
     "text": [
      "C:\\Users\\jisoo sung\\anaconda3\\lib\\site-packages\\seaborn\\_decorators.py:36: FutureWarning: Pass the following variables as keyword args: x, y. From version 0.12, the only valid positional argument will be `data`, and passing other arguments without an explicit keyword will result in an error or misinterpretation.\n",
      "  warnings.warn(\n"
     ]
    },
    {
     "data": {
      "text/plain": [
       "<AxesSubplot:xlabel='Hour', ylabel='Rented Bike Count'>"
      ]
     },
     "execution_count": 47,
     "metadata": {},
     "output_type": "execute_result"
    },
    {
     "data": {
      "image/png": "[encoded data removed]",
      "text/plain": [
       "<Figure size 432x288 with 1 Axes>"
      ]
     },
     "metadata": {
      "needs_background": "light"
     },
     "output_type": "display_data"
    }
   ],
   "source": [
    "plt.plot(data.groupby('Hour')['Rented Bike Count'].mean()) \n",
    "plt.grid()\n",
    "plt.title(\"Rented Bike Count by Hour\")\n",
    "plt.xlabel(\"Hour\",fontsize=10)\n",
    "plt.ylabel(\"Rented Bike Count by Hour\",fontsize=10)\n",
    "\n",
    "plt.axvline(8,color='red')\n",
    "plt.axvline(18,color='red')\n",
    "plt.show()\n",
    "\n",
    "sns.boxplot(data['Hour'],data['Rented Bike Count'])"
   ]
  },
  {
   "cell_type": "code",
   "execution_count": 49,
   "id": "1bc305d5",
   "metadata": {},
   "outputs": [
    {
     "data": {
      "image/png": "[encoded data removed]",
      "text/plain": [
       "<Figure size 432x288 with 2 Axes>"
      ]
     },
     "metadata": {
      "needs_background": "light"
     },
     "output_type": "display_data"
    }
   ],
   "source": [
    "sns.heatmap(data.corr(),annot=True)\n",
    "plt.show()"
   ]
  },
  {
   "cell_type": "code",
   "execution_count": 51,
   "id": "1bbbee99",
   "metadata": {},
   "outputs": [
    {
     "data": {
      "text/plain": [
       "Hour\n",
       "0     197633\n",
       "1     155557\n",
       "2     110095\n",
       "3      74216\n",
       "4      48396\n",
       "5      50765\n",
       "6     104961\n",
       "7     221192\n",
       "8     370731\n",
       "9     235784\n",
       "10    192655\n",
       "11    219311\n",
       "12    255296\n",
       "13    267635\n",
       "14    276971\n",
       "15    302653\n",
       "16    339677\n",
       "17    415556\n",
       "18    548568\n",
       "19    436229\n",
       "20    390172\n",
       "21    376479\n",
       "22    336821\n",
       "23    244961\n",
       "Name: Rented Bike Count, dtype: int64"
      ]
     },
     "execution_count": 51,
     "metadata": {},
     "output_type": "execute_result"
    }
   ],
   "source": [
    "data.groupby('Date')['Rented Bike Count'].sum() #날짜별 대여 자전거 수\n",
    "data.groupby('Seasons')['Rented Bike Count'].sum() #계절별 대여 자전거 수\n",
    "data.groupby('Holiday')['Rented Bike Count'].sum() #휴일/휴일x의 대여 자전거 수\n",
    "data.groupby('Hour')['Rented Bike Count'].sum() #시간별 대여 자전거 수"
   ]
  },
  {
   "cell_type": "markdown",
   "id": "8cd00a63",
   "metadata": {},
   "source": [
    "# Rented Bike Count & Seasons\n",
    "- 계절과 자전거 대여 수\n",
    "- 여름에 대여 수가 가장 많고 겨울에 가장 적다. (아무래도 당연한거 아님?)"
   ]
  },
  {
   "cell_type": "code",
   "execution_count": 58,
   "id": "82f37d63",
   "metadata": {},
   "outputs": [
    {
     "data": {
      "text/plain": [
       "Seasons\n",
       "Autumn    1790002\n",
       "Spring    1611909\n",
       "Summer    2283234\n",
       "Winter     487169\n",
       "Name: Rented Bike Count, dtype: int64"
      ]
     },
     "execution_count": 58,
     "metadata": {},
     "output_type": "execute_result"
    }
   ],
   "source": [
    "data.groupby('Seasons')['Rented Bike Count'].sum() #계절별 대여 자전거 수"
   ]
  },
  {
   "cell_type": "code",
   "execution_count": 59,
   "id": "07b5a517",
   "metadata": {},
   "outputs": [
    {
     "data": {
      "text/plain": [
       "<AxesSubplot:xlabel='Seasons', ylabel='Rented Bike Count'>"
      ]
     },
     "execution_count": 59,
     "metadata": {},
     "output_type": "execute_result"
    },
    {
     "data": {
      "image/png": "[encoded data removed]",
      "text/plain": [
       "<Figure size 432x288 with 1 Axes>"
      ]
     },
     "metadata": {
      "needs_background": "light"
     },
     "output_type": "display_data"
    }
   ],
   "source": [
    "sns.barplot(data = data, x= 'Seasons', y='Rented Bike Count')"
   ]
  },
  {
   "cell_type": "markdown",
   "id": "53a20c8b",
   "metadata": {},
   "source": [
    "# Temperature \n",
    "- 기온과 대여량 수"
   ]
  },
  {
   "cell_type": "code",
   "execution_count": 69,
   "id": "f8eaaedb",
   "metadata": {
    "scrolled": true
   },
   "outputs": [
    {
     "data": {
      "text/plain": [
       "[<matplotlib.lines.Line2D at 0x294dec9c4c0>]"
      ]
     },
     "execution_count": 69,
     "metadata": {},
     "output_type": "execute_result"
    },
    {
     "data": {
      "image/png": "[encoded data removed]",
      "text/plain": [
       "<Figure size 432x288 with 1 Axes>"
      ]
     },
     "metadata": {
      "needs_background": "light"
     },
     "output_type": "display_data"
    }
   ],
   "source": [
    "plt.plot(data.groupby('Humidity(%)')['Rented Bike Count'].sum())"
   ]
  },
  {
   "cell_type": "markdown",
   "id": "ad23f971",
   "metadata": {},
   "source": [
    "# Rainfall(mm) & Snowfall (cm) : 적설량(눈)\n",
    "- 강우량/적설량과 대여량 수\n",
    "- 눈,비가 안올 때/적게 올 때의 대여량 수가 대부분이다"
   ]
  },
  {
   "cell_type": "code",
   "execution_count": 70,
   "id": "74915539",
   "metadata": {},
   "outputs": [
    {
     "data": {
      "text/plain": [
       "Rainfall(mm)\n",
       "0.0     6086009\n",
       "0.1       15179\n",
       "0.2        3706\n",
       "0.3        1401\n",
       "0.4        2147\n",
       "         ...   \n",
       "21.0         19\n",
       "21.5        596\n",
       "24.0         61\n",
       "29.5        122\n",
       "35.0        151\n",
       "Name: Rented Bike Count, Length: 61, dtype: int64"
      ]
     },
     "execution_count": 70,
     "metadata": {},
     "output_type": "execute_result"
    }
   ],
   "source": [
    "data.groupby('Rainfall(mm)')['Rented Bike Count'].sum()"
   ]
  },
  {
   "cell_type": "code",
   "execution_count": 73,
   "id": "adaefb25",
   "metadata": {},
   "outputs": [
    {
     "data": {
      "text/plain": [
       "Snowfall (cm)\n",
       "0.0    6090314\n",
       "0.1        205\n",
       "0.2       3643\n",
       "0.3       8304\n",
       "0.4       5981\n",
       "0.5       4716\n",
       "0.6       2775\n",
       "0.7       5108\n",
       "0.8       5632\n",
       "0.9       4854\n",
       "1.0       6357\n",
       "1.1       1098\n",
       "1.2        435\n",
       "1.3       1092\n",
       "1.4        429\n",
       "1.5        168\n",
       "1.6       3771\n",
       "1.7        754\n",
       "1.8       1551\n",
       "1.9        703\n",
       "2.0       4191\n",
       "2.1        546\n",
       "2.2       3813\n",
       "2.3        897\n",
       "2.4        792\n",
       "2.5       1980\n",
       "2.6       1303\n",
       "2.7       1009\n",
       "2.8        355\n",
       "2.9        655\n",
       "3.0       1169\n",
       "3.1        119\n",
       "3.2       1027\n",
       "3.3        841\n",
       "3.4        367\n",
       "3.5       1856\n",
       "3.6        436\n",
       "3.7        789\n",
       "3.8        276\n",
       "3.9         94\n",
       "4.0        160\n",
       "4.1        459\n",
       "4.2        116\n",
       "4.3         50\n",
       "4.8         80\n",
       "5.0        374\n",
       "5.1         62\n",
       "6.0        241\n",
       "7.0        167\n",
       "7.1         24\n",
       "8.8        176\n",
       "Name: Rented Bike Count, dtype: int64"
      ]
     },
     "execution_count": 73,
     "metadata": {},
     "output_type": "execute_result"
    }
   ],
   "source": [
    "data.groupby('Snowfall (cm)')['Rented Bike Count'].sum()"
   ]
  },
  {
   "cell_type": "markdown",
   "id": "01ca837a",
   "metadata": {},
   "source": [
    "# Holiday : 휴일여부\n",
    "\n",
    "- 휴일이 아닐 때 대여량 수가 훨씬 많다"
   ]
  },
  {
   "cell_type": "code",
   "execution_count": 78,
   "id": "63cbde27",
   "metadata": {},
   "outputs": [
    {
     "data": {
      "text/plain": [
       "Hour\n",
       "0     No HolidayNo HolidayNo HolidayNo HolidayNo Hol...\n",
       "1     No HolidayNo HolidayNo HolidayNo HolidayNo Hol...\n",
       "2     No HolidayNo HolidayNo HolidayNo HolidayNo Hol...\n",
       "3     No HolidayNo HolidayNo HolidayNo HolidayNo Hol...\n",
       "4     No HolidayNo HolidayNo HolidayNo HolidayNo Hol...\n",
       "5     No HolidayNo HolidayNo HolidayNo HolidayNo Hol...\n",
       "6     No HolidayNo HolidayNo HolidayNo HolidayNo Hol...\n",
       "7     No HolidayNo HolidayNo HolidayNo HolidayNo Hol...\n",
       "8     No HolidayNo HolidayNo HolidayNo HolidayNo Hol...\n",
       "9     No HolidayNo HolidayNo HolidayNo HolidayNo Hol...\n",
       "10    No HolidayNo HolidayNo HolidayNo HolidayNo Hol...\n",
       "11    No HolidayNo HolidayNo HolidayNo HolidayNo Hol...\n",
       "12    No HolidayNo HolidayNo HolidayNo HolidayNo Hol...\n",
       "13    No HolidayNo HolidayNo HolidayNo HolidayNo Hol...\n",
       "14    No HolidayNo HolidayNo HolidayNo HolidayNo Hol...\n",
       "15    No HolidayNo HolidayNo HolidayNo HolidayNo Hol...\n",
       "16    No HolidayNo HolidayNo HolidayNo HolidayNo Hol...\n",
       "17    No HolidayNo HolidayNo HolidayNo HolidayNo Hol...\n",
       "18    No HolidayNo HolidayNo HolidayNo HolidayNo Hol...\n",
       "19    No HolidayNo HolidayNo HolidayNo HolidayNo Hol...\n",
       "20    No HolidayNo HolidayNo HolidayNo HolidayNo Hol...\n",
       "21    No HolidayNo HolidayNo HolidayNo HolidayNo Hol...\n",
       "22    No HolidayNo HolidayNo HolidayNo HolidayNo Hol...\n",
       "23    No HolidayNo HolidayNo HolidayNo HolidayNo Hol...\n",
       "Name: Holiday, dtype: object"
      ]
     },
     "execution_count": 78,
     "metadata": {},
     "output_type": "execute_result"
    }
   ],
   "source": [
    "data.groupby('Hour')['Holiday'].sum()"
   ]
  },
  {
   "cell_type": "code",
   "execution_count": 85,
   "id": "01527487",
   "metadata": {},
   "outputs": [
    {
     "name": "stderr",
     "output_type": "stream",
     "text": [
      "C:\\Users\\jisoo sung\\anaconda3\\lib\\site-packages\\seaborn\\_decorators.py:36: FutureWarning: Pass the following variable as a keyword arg: x. From version 0.12, the only valid positional argument will be `data`, and passing other arguments without an explicit keyword will result in an error or misinterpretation.\n",
      "  warnings.warn(\n"
     ]
    },
    {
     "data": {
      "text/plain": [
       "Text(0.5, 1.0, 'Holiday barplot')"
      ]
     },
     "execution_count": 85,
     "metadata": {},
     "output_type": "execute_result"
    },
    {
     "data": {
      "image/png": "[encoded data removed]",
      "text/plain": [
       "<Figure size 432x288 with 1 Axes>"
      ]
     },
     "metadata": {
      "needs_background": "light"
     },
     "output_type": "display_data"
    }
   ],
   "source": [
    "sns.countplot(data['Holiday'])\n",
    "plt.title('Holiday barplot',fontsize=20)"
   ]
  },
  {
   "cell_type": "markdown",
   "id": "cd21b423",
   "metadata": {},
   "source": [
    "# Functioning Day : 대여소 운영 여부\n",
    "- 대여소가 운영할 때만 빌릴 수 있음 당연한말이자나\n"
   ]
  },
  {
   "cell_type": "code",
   "execution_count": 87,
   "id": "8311fff8",
   "metadata": {},
   "outputs": [
    {
     "data": {
      "text/plain": [
       "array([8465,  295], dtype=int64)"
      ]
     },
     "execution_count": 87,
     "metadata": {},
     "output_type": "execute_result"
    }
   ],
   "source": [
    "data['Functioning Day'].value_counts().values"
   ]
  },
  {
   "cell_type": "code",
   "execution_count": 91,
   "id": "64145a17",
   "metadata": {},
   "outputs": [
    {
     "data": {
      "text/plain": [
       "Functioning Day\n",
       "No           0\n",
       "Yes    6172314\n",
       "Name: Rented Bike Count, dtype: int64"
      ]
     },
     "execution_count": 91,
     "metadata": {},
     "output_type": "execute_result"
    }
   ],
   "source": [
    "data.groupby('Functioning Day')['Rented Bike Count'].sum()"
   ]
  },
  {
   "cell_type": "code",
   "execution_count": null,
   "id": "e861d220",
   "metadata": {},
   "outputs": [],
   "source": []
  }
 ],
 "metadata": {
  "kernelspec": {
   "display_name": "Python 3",
   "language": "python",
   "name": "python3"
  },
  "language_info": {
   "codemirror_mode": {
    "name": "ipython",
    "version": 3
   },
   "file_extension": ".py",
   "mimetype": "text/x-python",
   "name": "python",
   "nbconvert_exporter": "python",
   "pygments_lexer": "ipython3",
   "version": "3.8.8"
  }
 },
 "nbformat": 4,
 "nbformat_minor": 5
}
